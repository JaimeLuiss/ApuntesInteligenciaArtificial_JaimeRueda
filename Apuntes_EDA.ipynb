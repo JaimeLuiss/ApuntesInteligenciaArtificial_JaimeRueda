{
  "nbformat": 4,
  "nbformat_minor": 0,
  "metadata": {
    "colab": {
      "provenance": [],
      "authorship_tag": "ABX9TyMVSZnaGpoCuu0m4+j85AtQ",
      "include_colab_link": true
    },
    "kernelspec": {
      "name": "python3",
      "display_name": "Python 3"
    },
    "language_info": {
      "name": "python"
    }
  },
  "cells": [
    {
      "cell_type": "markdown",
      "metadata": {
        "id": "view-in-github",
        "colab_type": "text"
      },
      "source": [
        "<a href=\"https://colab.research.google.com/github/JaimeLuiss/ApuntesInteligenciaArtificial_JaimeRueda/blob/main/Apuntes_EDA.ipynb\" target=\"_parent\"><img src=\"https://colab.research.google.com/assets/colab-badge.svg\" alt=\"Open In Colab\"/></a>"
      ]
    },
    {
      "cell_type": "markdown",
      "source": [
        "Variables en Python\n",
        "\n",
        "Las variables categóricas o text se guardan inialciamente en tipo onject las variables numéricas se guardan en tipo int o float (8,16,32,64)\n",
        "\n",
        "\n",
        "Crecar dataset usando nupy\n",
        "Esta es una tabulación\n",
        "\n",
        "*   Elemento de lista\n",
        "*   Elemento de lista\n",
        "\n",
        "\n",
        "Esta es otra\n"
      ],
      "metadata": {
        "id": "EWRuCnnkIfMS"
      }
    },
    {
      "cell_type": "code",
      "execution_count": null,
      "metadata": {
        "id": "K-xQP9sxHbyL"
      },
      "outputs": [],
      "source": []
    }
  ]
}